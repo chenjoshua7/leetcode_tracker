{
 "cells": [
  {
   "cell_type": "code",
   "execution_count": 31,
   "metadata": {},
   "outputs": [],
   "source": [
    "import pymysql\n",
    "import pandas as pd\n",
    "import numpy as np"
   ]
  },
  {
   "cell_type": "code",
   "execution_count": 32,
   "metadata": {},
   "outputs": [],
   "source": [
    "def easy_ddl(connection, query):\n",
    "    try:\n",
    "        with connection.cursor() as cursor:\n",
    "            cursor.execute(query)\n",
    "            connection.commit()\n",
    "        print(\"Successfully Executed\")\n",
    "    except pymysql.MySQLError as e:\n",
    "        print(f\"Error: {e}\")\n",
    "\n",
    "def easy_query(connection, query):\n",
    "    try:\n",
    "        with connection.cursor() as cursor:\n",
    "            cursor.execute(query)\n",
    "            results = cursor.fetchall()\n",
    "            print(\"Successfully Executed\")\n",
    "            return pd.DataFrame(results)\n",
    "    except pymysql.MySQLError as e:\n",
    "        print(f\"Error: {e}\")"
   ]
  },
  {
   "cell_type": "markdown",
   "metadata": {},
   "source": [
    "\n",
    "<img src= \"https://upload.wikimedia.org/wikipedia/labs/8/8e/Mysql_logo.png\" style=\"height:150px; width:300px; \"> \n",
    "<img src=\"https://upload.wikimedia.org/wikipedia/commons/thumb/9/93/Amazon_Web_Services_Logo.svg/2560px-Amazon_Web_Services_Logo.svg.png\" style=\"height:150px; width:300px; padding:0px 100px\" >\n",
    "\n",
    "</br>\n",
    "</br>\n",
    "</br>\n",
    "\n",
    "# AWS MySQL setup\n",
    "\n",
    "This is to setup my AWS RDS MySQL Database to track my progress on LeetCodee SQL questions. </br>\n",
    "You can connect this to a local database - otherwise, you can set up your cloud database <a href=\"https://aws.amazon.com/rds/\">here.</a> (or your cloud database of choice.)"
   ]
  },
  {
   "cell_type": "markdown",
   "metadata": {},
   "source": [
    "## Create Connection"
   ]
  },
  {
   "cell_type": "code",
   "execution_count": 33,
   "metadata": {},
   "outputs": [
    {
     "name": "stdout",
     "output_type": "stream",
     "text": [
      "Connection successful!\n"
     ]
    }
   ],
   "source": [
    "endpoint = \"\"\n",
    "port = 3306\n",
    "username = \"\"\n",
    "password = \"\"\n",
    "\n",
    "try:\n",
    "    aws_connection = pymysql.connect(\n",
    "        host=endpoint,\n",
    "        user=username,\n",
    "        password=password,\n",
    "        #database=database,\n",
    "        port=port\n",
    "    )\n",
    "    print(\"Connection successful!\")\n",
    "\n",
    "    aws_cursor = aws_connection.cursor()\n",
    "    \n",
    "except pymysql.MySQLError as e:\n",
    "    print(f\"Error: {e}\")"
   ]
  },
  {
   "cell_type": "markdown",
   "metadata": {},
   "source": [
    "## Creating the AWS Database and Table"
   ]
  },
  {
   "cell_type": "code",
   "execution_count": 34,
   "metadata": {},
   "outputs": [
    {
     "name": "stdout",
     "output_type": "stream",
     "text": [
      "Successfully Executed\n",
      "Successfully Executed\n",
      "Successfully Executed\n",
      "Successfully Executed\n"
     ]
    }
   ],
   "source": [
    "## Creating the database\n",
    "easy_ddl(aws_connection, \"CREATE DATABASE IF NOT EXISTS leetcode;\")\n",
    "\n",
    "## Use the database\n",
    "easy_ddl(aws_connection, \"USE leetcode;\")\n",
    "\n",
    "## Creating the table\n",
    "query = \"\"\"CREATE TABLE IF NOT EXISTS daily_problems (\n",
    "    id INT PRIMARY KEY,\n",
    "    date DATETIME DEFAULT CURRENT_TIMESTAMP,  -- Use CURRENT_TIMESTAMP for DATETIME\n",
    "    name VARCHAR(225),\n",
    "    complexity VARCHAR(8) CHECK (complexity IN ('Easy', 'Medium', 'Hard')),\n",
    "    acceptance_rate FLOAT,\n",
    "    time FLOAT,\n",
    "    language VARCHAR(20) DEFAULT 'Python',\n",
    "    chat_gpt INT CHECK (chat_gpt IN (0, 1)),\n",
    "    speed FLOAT,\n",
    "    memory FLOAT,\n",
    "    skills VARCHAR(225),\n",
    "    notes VARCHAR(225));\n",
    "    \"\"\"\n",
    "    \n",
    "easy_ddl(aws_connection, query)"
   ]
  },
  {
   "cell_type": "markdown",
   "metadata": {},
   "source": [
    "## Move Data From Local Database\n",
    "I had already started storing my data from a local database. Here I will beging moving data into the AWS database."
   ]
  },
  {
   "cell_type": "code",
   "execution_count": 35,
   "metadata": {},
   "outputs": [
    {
     "name": "stdout",
     "output_type": "stream",
     "text": [
      "Connection successful!\n"
     ]
    }
   ],
   "source": [
    "endpoint = \"localhost\"\n",
    "port = 3306\n",
    "username = \"root\"\n",
    "password = \"\"\n",
    "database = \"leetcode\"\n",
    "\n",
    "try:\n",
    "    local_connection = pymysql.connect(\n",
    "        host=endpoint,\n",
    "        user=username,\n",
    "        password=password,\n",
    "        database=database,\n",
    "        port=port\n",
    "    )\n",
    "    print(\"Connection successful!\")\n",
    "    \n",
    "except pymysql.MySQLError as e:\n",
    "    print(f\"Error: {e}\")"
   ]
  },
  {
   "cell_type": "code",
   "execution_count": 36,
   "metadata": {},
   "outputs": [
    {
     "name": "stdout",
     "output_type": "stream",
     "text": [
      "Successfully Executed\n",
      "Successfully Executed\n"
     ]
    }
   ],
   "source": [
    "df = easy_query(local_connection, \"SELECT * FROM daily_problems\")\n",
    "col_names = easy_query(local_connection, \"SELECT COLUMN_NAME FROM INFORMATION_SCHEMA.COLUMNS WHERE TABLE_NAME = 'daily_problems'\")[0]"
   ]
  },
  {
   "cell_type": "code",
   "execution_count": 37,
   "metadata": {},
   "outputs": [
    {
     "data": {
      "text/html": [
       "<div>\n",
       "<style scoped>\n",
       "    .dataframe tbody tr th:only-of-type {\n",
       "        vertical-align: middle;\n",
       "    }\n",
       "\n",
       "    .dataframe tbody tr th {\n",
       "        vertical-align: top;\n",
       "    }\n",
       "\n",
       "    .dataframe thead th {\n",
       "        text-align: right;\n",
       "    }\n",
       "</style>\n",
       "<table border=\"1\" class=\"dataframe\">\n",
       "  <thead>\n",
       "    <tr style=\"text-align: right;\">\n",
       "      <th></th>\n",
       "      <th>problem_id</th>\n",
       "      <th>prob_date</th>\n",
       "      <th>prob_name</th>\n",
       "      <th>accpetance</th>\n",
       "      <th>complexity</th>\n",
       "      <th>completion_time</th>\n",
       "      <th>skills</th>\n",
       "      <th>notes</th>\n",
       "      <th>chat_gpt</th>\n",
       "      <th>accepted</th>\n",
       "      <th>speed</th>\n",
       "      <th>memory</th>\n",
       "    </tr>\n",
       "  </thead>\n",
       "  <tbody>\n",
       "    <tr>\n",
       "      <th>0</th>\n",
       "      <td>725</td>\n",
       "      <td>2024-09-08 07:38:16</td>\n",
       "      <td>Split Linked List in Parts</td>\n",
       "      <td>67.5</td>\n",
       "      <td>Medium</td>\n",
       "      <td>1186.32</td>\n",
       "      <td>Linked List</td>\n",
       "      <td>Very slow solution</td>\n",
       "      <td>0.0</td>\n",
       "      <td>1.0</td>\n",
       "      <td>NaN</td>\n",
       "      <td>NaN</td>\n",
       "    </tr>\n",
       "    <tr>\n",
       "      <th>1</th>\n",
       "      <td>874</td>\n",
       "      <td>2024-09-04 11:10:35</td>\n",
       "      <td>Walking Robot Simulation</td>\n",
       "      <td>52.2</td>\n",
       "      <td>Medium</td>\n",
       "      <td>4326.63</td>\n",
       "      <td>Array, Hash Table, Simulation</td>\n",
       "      <td>I completed 3 solution but none of them was fa...</td>\n",
       "      <td>0.0</td>\n",
       "      <td>1.0</td>\n",
       "      <td>NaN</td>\n",
       "      <td>NaN</td>\n",
       "    </tr>\n",
       "    <tr>\n",
       "      <th>2</th>\n",
       "      <td>947</td>\n",
       "      <td>2024-08-29 20:19:00</td>\n",
       "      <td>Most Stones Removed with Same Row or Column</td>\n",
       "      <td>62.0</td>\n",
       "      <td>Medium</td>\n",
       "      <td>3104.14</td>\n",
       "      <td>Hash Table, Depth-First Search, Union Find, Graph</td>\n",
       "      <td>I'm so tired. I tried a solution with an adjac...</td>\n",
       "      <td>NaN</td>\n",
       "      <td>NaN</td>\n",
       "      <td>NaN</td>\n",
       "      <td>NaN</td>\n",
       "    </tr>\n",
       "  </tbody>\n",
       "</table>\n",
       "</div>"
      ],
      "text/plain": [
       "0  problem_id           prob_date  \\\n",
       "0         725 2024-09-08 07:38:16   \n",
       "1         874 2024-09-04 11:10:35   \n",
       "2         947 2024-08-29 20:19:00   \n",
       "\n",
       "0                                    prob_name  accpetance complexity  \\\n",
       "0                   Split Linked List in Parts        67.5     Medium   \n",
       "1                     Walking Robot Simulation        52.2     Medium   \n",
       "2  Most Stones Removed with Same Row or Column        62.0     Medium   \n",
       "\n",
       "0  completion_time                                             skills  \\\n",
       "0          1186.32                                        Linked List   \n",
       "1          4326.63                      Array, Hash Table, Simulation   \n",
       "2          3104.14  Hash Table, Depth-First Search, Union Find, Graph   \n",
       "\n",
       "0                                              notes  chat_gpt  accepted  \\\n",
       "0                                 Very slow solution       0.0       1.0   \n",
       "1  I completed 3 solution but none of them was fa...       0.0       1.0   \n",
       "2  I'm so tired. I tried a solution with an adjac...       NaN       NaN   \n",
       "\n",
       "0  speed  memory  \n",
       "0    NaN     NaN  \n",
       "1    NaN     NaN  \n",
       "2    NaN     NaN  "
      ]
     },
     "execution_count": 37,
     "metadata": {},
     "output_type": "execute_result"
    }
   ],
   "source": [
    "df.columns = col_names\n",
    "df.head(3)"
   ]
  },
  {
   "cell_type": "code",
   "execution_count": 38,
   "metadata": {},
   "outputs": [],
   "source": [
    "# Close local connection\n",
    "local_connection.close()"
   ]
  },
  {
   "cell_type": "markdown",
   "metadata": {},
   "source": [
    "### Transfering data\n",
    "Sending the data to AWS"
   ]
  },
  {
   "cell_type": "code",
   "execution_count": 39,
   "metadata": {},
   "outputs": [
    {
     "name": "stdout",
     "output_type": "stream",
     "text": [
      "Successfully inserted rows into daily_problems\n"
     ]
    }
   ],
   "source": [
    "with aws_connection.cursor() as cursor:\n",
    "    query = \"\"\"\n",
    "    INSERT INTO daily_problems (id, date, name, complexity, acceptance_rate, time, chat_gpt, speed, memory, skills, notes)\n",
    "    VALUES (%s, %s, %s, %s, %s, %s, %s, %s, %s, %s, %s)\n",
    "    \"\"\"\n",
    "    try:\n",
    "        for index, row in df.iterrows():\n",
    "            # Replace NaN values with None\n",
    "            row = row.replace({np.nan: None})\n",
    "\n",
    "            try:\n",
    "                # Execute the query for each row\n",
    "                cursor.execute(query, (\n",
    "                    row['problem_id'], \n",
    "                    row['prob_date'], \n",
    "                    row['prob_name'], \n",
    "                    row['complexity'], \n",
    "                    row['accpetance'],\n",
    "                    row['completion_time'], \n",
    "                    row['chat_gpt'], \n",
    "                    row['speed'], \n",
    "                    row['memory'], \n",
    "                    row['skills'],\n",
    "                    row['notes']\n",
    "                ))\n",
    "            except pymysql.MySQLError as e:\n",
    "                #print(f\"Error: {e}\")\n",
    "                continue\n",
    "        \n",
    "        aws_connection.commit()\n",
    "        print(\"Successfully inserted rows into daily_problems\")\n",
    "    \n",
    "    except pymysql.MySQLError as e:\n",
    "        print(f\"Error: {e}\")"
   ]
  },
  {
   "cell_type": "markdown",
   "metadata": {},
   "source": [
    "### Double Checking\n",
    "Ensuring data was properly sent to AWS"
   ]
  },
  {
   "cell_type": "code",
   "execution_count": 40,
   "metadata": {},
   "outputs": [
    {
     "name": "stdout",
     "output_type": "stream",
     "text": [
      "Successfully Executed\n",
      "Successfully Executed\n"
     ]
    },
    {
     "data": {
      "text/html": [
       "<div>\n",
       "<style scoped>\n",
       "    .dataframe tbody tr th:only-of-type {\n",
       "        vertical-align: middle;\n",
       "    }\n",
       "\n",
       "    .dataframe tbody tr th {\n",
       "        vertical-align: top;\n",
       "    }\n",
       "\n",
       "    .dataframe thead th {\n",
       "        text-align: right;\n",
       "    }\n",
       "</style>\n",
       "<table border=\"1\" class=\"dataframe\">\n",
       "  <thead>\n",
       "    <tr style=\"text-align: right;\">\n",
       "      <th></th>\n",
       "      <th>id</th>\n",
       "      <th>date</th>\n",
       "      <th>name</th>\n",
       "      <th>complexity</th>\n",
       "      <th>acceptance_rate</th>\n",
       "      <th>time</th>\n",
       "      <th>language</th>\n",
       "      <th>chat_gpt</th>\n",
       "      <th>speed</th>\n",
       "      <th>memory</th>\n",
       "      <th>skills</th>\n",
       "      <th>notes</th>\n",
       "    </tr>\n",
       "  </thead>\n",
       "  <tbody>\n",
       "    <tr>\n",
       "      <th>0</th>\n",
       "      <td>2220</td>\n",
       "      <td>2024-09-11 10:00:22</td>\n",
       "      <td>Minimum Bit Flips to Convert Number</td>\n",
       "      <td>Easy</td>\n",
       "      <td>87.2</td>\n",
       "      <td>1.7063</td>\n",
       "      <td>Python</td>\n",
       "      <td>0.0</td>\n",
       "      <td>97.25</td>\n",
       "      <td>26.96</td>\n",
       "      <td>Bit Manipulation</td>\n",
       "      <td></td>\n",
       "    </tr>\n",
       "    <tr>\n",
       "      <th>1</th>\n",
       "      <td>2807</td>\n",
       "      <td>2024-09-10 07:49:21</td>\n",
       "      <td>Insert Greatest Common Divisors in Linked List</td>\n",
       "      <td>Medium</td>\n",
       "      <td>91.7</td>\n",
       "      <td>2392.1100</td>\n",
       "      <td>Python</td>\n",
       "      <td>0.0</td>\n",
       "      <td>NaN</td>\n",
       "      <td>NaN</td>\n",
       "      <td>LinkedList, Math, Number Theory</td>\n",
       "      <td>Tried to modify LinkedList in place. Ended up ...</td>\n",
       "    </tr>\n",
       "    <tr>\n",
       "      <th>2</th>\n",
       "      <td>2326</td>\n",
       "      <td>2024-09-09 07:19:57</td>\n",
       "      <td>Spiral Matrix IV</td>\n",
       "      <td>Medium</td>\n",
       "      <td>80.3</td>\n",
       "      <td>2206.8500</td>\n",
       "      <td>Python</td>\n",
       "      <td>0.0</td>\n",
       "      <td>NaN</td>\n",
       "      <td>NaN</td>\n",
       "      <td>Array, LinkedList, Matrix, Simulation</td>\n",
       "      <td>Extremely slow and memory intensive</td>\n",
       "    </tr>\n",
       "    <tr>\n",
       "      <th>3</th>\n",
       "      <td>725</td>\n",
       "      <td>2024-09-08 07:38:16</td>\n",
       "      <td>Split Linked List in Parts</td>\n",
       "      <td>Medium</td>\n",
       "      <td>67.5</td>\n",
       "      <td>1186.3200</td>\n",
       "      <td>Python</td>\n",
       "      <td>0.0</td>\n",
       "      <td>NaN</td>\n",
       "      <td>NaN</td>\n",
       "      <td>Linked List</td>\n",
       "      <td>Very slow solution</td>\n",
       "    </tr>\n",
       "    <tr>\n",
       "      <th>4</th>\n",
       "      <td>1367</td>\n",
       "      <td>2024-09-07 11:29:00</td>\n",
       "      <td>Linked List in Binary Tree</td>\n",
       "      <td>Medium</td>\n",
       "      <td>48.5</td>\n",
       "      <td>3266.2200</td>\n",
       "      <td>Python</td>\n",
       "      <td>0.0</td>\n",
       "      <td>NaN</td>\n",
       "      <td>NaN</td>\n",
       "      <td>Linked List, Tree, Depth-First Search, Breadth...</td>\n",
       "      <td>Had some interruptions, ended up using ChatGPT</td>\n",
       "    </tr>\n",
       "  </tbody>\n",
       "</table>\n",
       "</div>"
      ],
      "text/plain": [
       "0    id                date                                            name  \\\n",
       "0  2220 2024-09-11 10:00:22             Minimum Bit Flips to Convert Number   \n",
       "1  2807 2024-09-10 07:49:21  Insert Greatest Common Divisors in Linked List   \n",
       "2  2326 2024-09-09 07:19:57                                Spiral Matrix IV   \n",
       "3   725 2024-09-08 07:38:16                      Split Linked List in Parts   \n",
       "4  1367 2024-09-07 11:29:00                      Linked List in Binary Tree   \n",
       "\n",
       "0 complexity  acceptance_rate       time language  chat_gpt  speed  memory  \\\n",
       "0       Easy             87.2     1.7063   Python       0.0  97.25   26.96   \n",
       "1     Medium             91.7  2392.1100   Python       0.0    NaN     NaN   \n",
       "2     Medium             80.3  2206.8500   Python       0.0    NaN     NaN   \n",
       "3     Medium             67.5  1186.3200   Python       0.0    NaN     NaN   \n",
       "4     Medium             48.5  3266.2200   Python       0.0    NaN     NaN   \n",
       "\n",
       "0                                             skills  \\\n",
       "0                                   Bit Manipulation   \n",
       "1                    LinkedList, Math, Number Theory   \n",
       "2              Array, LinkedList, Matrix, Simulation   \n",
       "3                                        Linked List   \n",
       "4  Linked List, Tree, Depth-First Search, Breadth...   \n",
       "\n",
       "0                                              notes  \n",
       "0                                                     \n",
       "1  Tried to modify LinkedList in place. Ended up ...  \n",
       "2                Extremely slow and memory intensive  \n",
       "3                                 Very slow solution  \n",
       "4     Had some interruptions, ended up using ChatGPT  "
      ]
     },
     "execution_count": 40,
     "metadata": {},
     "output_type": "execute_result"
    }
   ],
   "source": [
    "aws_df = easy_query(aws_connection, \"SELECT * FROM leetcode.daily_problems ORDER BY date DESC\")\n",
    "col_names = easy_query(aws_connection, \"SELECT COLUMN_NAME FROM INFORMATION_SCHEMA.COLUMNS WHERE TABLE_NAME = 'daily_problems'\")[0]\n",
    "\n",
    "aws_df.columns = col_names\n",
    "aws_df.head(5)"
   ]
  },
  {
   "cell_type": "code",
   "execution_count": 41,
   "metadata": {},
   "outputs": [],
   "source": [
    "aws_connection.close()"
   ]
  },
  {
   "cell_type": "markdown",
   "metadata": {},
   "source": [
    "# Next Steps:\n",
    "Use <code>lcdc.py</code> to track and load your daily challenge data. You need Selenium and BeautifulSoup4."
   ]
  }
 ],
 "metadata": {
  "kernelspec": {
   "display_name": "uni",
   "language": "python",
   "name": "python3"
  },
  "language_info": {
   "codemirror_mode": {
    "name": "ipython",
    "version": 3
   },
   "file_extension": ".py",
   "mimetype": "text/x-python",
   "name": "python",
   "nbconvert_exporter": "python",
   "pygments_lexer": "ipython3",
   "version": "3.11.5"
  }
 },
 "nbformat": 4,
 "nbformat_minor": 2
}
