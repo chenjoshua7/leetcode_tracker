{
 "cells": [
  {
   "cell_type": "code",
   "execution_count": 4,
   "metadata": {},
   "outputs": [],
   "source": [
    "import pandas as pd\n",
    "import numpy as np\n",
    "import pymysql"
   ]
  },
  {
   "cell_type": "markdown",
   "metadata": {},
   "source": [
    "# Predictive Modeling\n",
    "\n",
    "Currently, I only have a limited dataset, with just a few rows of data, which isn't sufficient to train more complex models like bagging or boosted trees, or to perform a proper train-test split. As a result, I'll be using simpler methods, such as logistic regression and k-Nearest Neighbors (kNN), until I collect enough data for more advanced modeling."
   ]
  },
  {
   "cell_type": "markdown",
   "metadata": {},
   "source": [
    "#### Loading Data"
   ]
  },
  {
   "cell_type": "code",
   "execution_count": 10,
   "metadata": {},
   "outputs": [],
   "source": [
    "class DataQuerier:\n",
    "    def __init__(self) -> None:\n",
    "        self.connection = None\n",
    "        self._connect()\n",
    "        pass\n",
    "    \n",
    "    def _connect(self):\n",
    "        endpoint = \"leetcode.c9eq4wc6mqs0.us-east-2.rds.amazonaws.com\"\n",
    "        port = 3306\n",
    "        username = \"streamlit\"\n",
    "        password = \"password123\"\n",
    "        database = \"leetcode\"\n",
    "\n",
    "        try:\n",
    "            self.connection = pymysql.connect(\n",
    "                host=endpoint,\n",
    "                user=username,\n",
    "                password=password,\n",
    "                database=database,\n",
    "                port=port\n",
    "            )\n",
    "            print(\"Connection successful!\")\n",
    "            \n",
    "        except pymysql.MySQLError as e:\n",
    "            print(f\"Error: {e}\")\n",
    "    \n",
    "    def query(self, query):\n",
    "        try:\n",
    "            with self.connection.cursor() as cursor:\n",
    "                cursor.execute(query)\n",
    "                results = cursor.fetchall()\n",
    "                print(\"Successfully Executed\")\n",
    "                \n",
    "                column_names = [desc[0] for desc in cursor.description]\n",
    "                \n",
    "                if column_names:\n",
    "                    return pd.DataFrame(results, columns = column_names)\n",
    "                else:\n",
    "                    return pd.DataFrame(results)\n",
    "        except pymysql.MySQLError as e:\n",
    "            print(f\"Error: {e}\")\n",
    "    \n",
    "    def close(self):\n",
    "        print(\"Connection Closed\")\n",
    "        self.connection.close()"
   ]
  },
  {
   "cell_type": "code",
   "execution_count": 11,
   "metadata": {},
   "outputs": [
    {
     "name": "stdout",
     "output_type": "stream",
     "text": [
      "Connection successful!\n",
      "Successfully Executed\n",
      "Querier Closed\n"
     ]
    }
   ],
   "source": [
    "querier = DataQuerier()\n",
    "df = querier.query(\"SELECT * FROM daily_problems\")\n",
    "querier.close()"
   ]
  },
  {
   "cell_type": "markdown",
   "metadata": {},
   "source": [
    "### Preprocessing"
   ]
  },
  {
   "cell_type": "code",
   "execution_count": 16,
   "metadata": {},
   "outputs": [
    {
     "name": "stdout",
     "output_type": "stream",
     "text": [
      "Rows: 16\n"
     ]
    },
    {
     "data": {
      "text/html": [
       "<div>\n",
       "<style scoped>\n",
       "    .dataframe tbody tr th:only-of-type {\n",
       "        vertical-align: middle;\n",
       "    }\n",
       "\n",
       "    .dataframe tbody tr th {\n",
       "        vertical-align: top;\n",
       "    }\n",
       "\n",
       "    .dataframe thead th {\n",
       "        text-align: right;\n",
       "    }\n",
       "</style>\n",
       "<table border=\"1\" class=\"dataframe\">\n",
       "  <thead>\n",
       "    <tr style=\"text-align: right;\">\n",
       "      <th></th>\n",
       "      <th>id</th>\n",
       "      <th>date</th>\n",
       "      <th>name</th>\n",
       "      <th>complexity</th>\n",
       "      <th>acceptance_rate</th>\n",
       "      <th>time</th>\n",
       "      <th>language</th>\n",
       "      <th>chat_gpt</th>\n",
       "      <th>speed</th>\n",
       "      <th>memory</th>\n",
       "      <th>skills</th>\n",
       "      <th>notes</th>\n",
       "    </tr>\n",
       "  </thead>\n",
       "  <tbody>\n",
       "    <tr>\n",
       "      <th>0</th>\n",
       "      <td>539</td>\n",
       "      <td>2024-09-16 07:43:57</td>\n",
       "      <td>Minimum Time Difference</td>\n",
       "      <td>Medium</td>\n",
       "      <td>59.9</td>\n",
       "      <td>2695.090</td>\n",
       "      <td>Python</td>\n",
       "      <td>0.0</td>\n",
       "      <td>7.38</td>\n",
       "      <td>70.90</td>\n",
       "      <td>Array, Math, String, Sorting</td>\n",
       "      <td>Got stuck for a while doing a O(n^2) solution ...</td>\n",
       "    </tr>\n",
       "    <tr>\n",
       "      <th>1</th>\n",
       "      <td>725</td>\n",
       "      <td>2024-09-08 07:38:16</td>\n",
       "      <td>Split Linked List in Parts</td>\n",
       "      <td>Medium</td>\n",
       "      <td>67.5</td>\n",
       "      <td>1186.320</td>\n",
       "      <td>Python</td>\n",
       "      <td>0.0</td>\n",
       "      <td>NaN</td>\n",
       "      <td>NaN</td>\n",
       "      <td>Linked List</td>\n",
       "      <td>Very slow solution</td>\n",
       "    </tr>\n",
       "    <tr>\n",
       "      <th>2</th>\n",
       "      <td>874</td>\n",
       "      <td>2024-09-04 11:10:35</td>\n",
       "      <td>Walking Robot Simulation</td>\n",
       "      <td>Medium</td>\n",
       "      <td>52.2</td>\n",
       "      <td>4326.630</td>\n",
       "      <td>Python</td>\n",
       "      <td>0.0</td>\n",
       "      <td>NaN</td>\n",
       "      <td>NaN</td>\n",
       "      <td>Array, Hash Table, Simulation</td>\n",
       "      <td>I completed 3 solution but none of them was fa...</td>\n",
       "    </tr>\n",
       "    <tr>\n",
       "      <th>3</th>\n",
       "      <td>947</td>\n",
       "      <td>2024-08-29 20:19:00</td>\n",
       "      <td>Most Stones Removed with Same Row or Column</td>\n",
       "      <td>Medium</td>\n",
       "      <td>62.0</td>\n",
       "      <td>3104.140</td>\n",
       "      <td>Python</td>\n",
       "      <td>NaN</td>\n",
       "      <td>NaN</td>\n",
       "      <td>NaN</td>\n",
       "      <td>Hash Table, Depth-First Search, Union Find, Graph</td>\n",
       "      <td>I'm so tired. I tried a solution with an adjac...</td>\n",
       "    </tr>\n",
       "    <tr>\n",
       "      <th>4</th>\n",
       "      <td>1310</td>\n",
       "      <td>2024-09-13 12:02:18</td>\n",
       "      <td>XOR Queries of a Subarray</td>\n",
       "      <td>Medium</td>\n",
       "      <td>77.6</td>\n",
       "      <td>899.995</td>\n",
       "      <td>Python</td>\n",
       "      <td>0.0</td>\n",
       "      <td>5.26</td>\n",
       "      <td>76.32</td>\n",
       "      <td>Array, Bit Manipulation, Prefix Sum</td>\n",
       "      <td>First solution used to for loops, to slow. Opt...</td>\n",
       "    </tr>\n",
       "  </tbody>\n",
       "</table>\n",
       "</div>"
      ],
      "text/plain": [
       "     id                date                                         name  \\\n",
       "0   539 2024-09-16 07:43:57                      Minimum Time Difference   \n",
       "1   725 2024-09-08 07:38:16                   Split Linked List in Parts   \n",
       "2   874 2024-09-04 11:10:35                     Walking Robot Simulation   \n",
       "3   947 2024-08-29 20:19:00  Most Stones Removed with Same Row or Column   \n",
       "4  1310 2024-09-13 12:02:18                    XOR Queries of a Subarray   \n",
       "\n",
       "  complexity  acceptance_rate      time language  chat_gpt  speed  memory  \\\n",
       "0     Medium             59.9  2695.090   Python       0.0   7.38   70.90   \n",
       "1     Medium             67.5  1186.320   Python       0.0    NaN     NaN   \n",
       "2     Medium             52.2  4326.630   Python       0.0    NaN     NaN   \n",
       "3     Medium             62.0  3104.140   Python       NaN    NaN     NaN   \n",
       "4     Medium             77.6   899.995   Python       0.0   5.26   76.32   \n",
       "\n",
       "                                              skills  \\\n",
       "0                       Array, Math, String, Sorting   \n",
       "1                                        Linked List   \n",
       "2                      Array, Hash Table, Simulation   \n",
       "3  Hash Table, Depth-First Search, Union Find, Graph   \n",
       "4                Array, Bit Manipulation, Prefix Sum   \n",
       "\n",
       "                                               notes  \n",
       "0  Got stuck for a while doing a O(n^2) solution ...  \n",
       "1                                 Very slow solution  \n",
       "2  I completed 3 solution but none of them was fa...  \n",
       "3  I'm so tired. I tried a solution with an adjac...  \n",
       "4  First solution used to for loops, to slow. Opt...  "
      ]
     },
     "execution_count": 16,
     "metadata": {},
     "output_type": "execute_result"
    }
   ],
   "source": [
    "print(f\"Rows: {df.shape[0]}\")\n",
    "\n",
    "df.head(5)"
   ]
  },
  {
   "cell_type": "code",
   "execution_count": 17,
   "metadata": {},
   "outputs": [],
   "source": [
    "y = df[\"time\"]"
   ]
  },
  {
   "cell_type": "code",
   "execution_count": 22,
   "metadata": {},
   "outputs": [],
   "source": [
    "columns = [\"complexity\", \"acceptance_rate\", \"skills\"]\n",
    "x = df[columns]"
   ]
  },
  {
   "cell_type": "markdown",
   "metadata": {},
   "source": [
    "## Making a simple preprocessor compatible with SkLearn's Pipeline"
   ]
  },
  {
   "cell_type": "code",
   "execution_count": 40,
   "metadata": {},
   "outputs": [],
   "source": [
    "from sklearn.base import BaseEstimator, TransformerMixin\n",
    "\n",
    "class PreprocessData(BaseEstimator, TransformerMixin):\n",
    "    def __init__(self) -> None:\n",
    "        self.skills = None\n",
    "        self.fitted = False\n",
    "        \n",
    "    def fit(self, df, y=None):\n",
    "        self.skills = df['skills'].str.split(',').explode().str.strip().unique()\n",
    "        self.fitted = True\n",
    "        return self\n",
    "    \n",
    "    def transform(self, df):\n",
    "        columns = [\"complexity\", \"acceptance_rate\", \"skills\"]\n",
    "        \n",
    "        if not self.fitted:\n",
    "            raise AssertionError(\"Model has not been fit\")\n",
    "        df = df.copy()\n",
    "        df = df[columns]\n",
    "        df = self._ohe_complexity(df)\n",
    "        df = self._ohe_skills(df)\n",
    "        df = df.drop([\"complexity\", \"skills\"], axis = 1)\n",
    "        return df \n",
    "    \n",
    "    def _ohe_complexity(self, df) -> pd.DataFrame:\n",
    "        complexity = [\"Easy\", \"Medium\", \"Hard\"]\n",
    "        \n",
    "        for level in complexity:\n",
    "            df[f'complexity_{level}'] = df['complexity'].apply(lambda x: 1 if x == level else 0)\n",
    "        \n",
    "        return df\n",
    "    \n",
    "    def _ohe_skills(self, df) -> pd.DataFrame:\n",
    "        for skill in self.skills:\n",
    "            df[f'skill_{skill}'] = df['skills'].apply(lambda x: 1 if skill in x.split(',') else 0)\n",
    "        \n",
    "        return df"
   ]
  },
  {
   "cell_type": "code",
   "execution_count": 41,
   "metadata": {},
   "outputs": [],
   "source": [
    "preproccessor = PreprocessData()\n",
    "cleaned_x = preproccessor.fit_transform(x)"
   ]
  },
  {
   "cell_type": "code",
   "execution_count": 48,
   "metadata": {},
   "outputs": [
    {
     "name": "stdout",
     "output_type": "stream",
     "text": [
      "Features: 26\n"
     ]
    }
   ],
   "source": [
    "print(f\"Features: {cleaned_x.shape[1]}\")"
   ]
  },
  {
   "cell_type": "markdown",
   "metadata": {},
   "source": [
    "## Fitting Logistic Regression"
   ]
  },
  {
   "cell_type": "code",
   "execution_count": 61,
   "metadata": {},
   "outputs": [],
   "source": [
    "from sklearn.pipeline import Pipeline\n",
    "from sklearn.linear_model import LinearRegression\n",
    "from sklearn.metrics import mean_squared_error, r2_score, root_mean_squared_error\n",
    "\n",
    "pipeline = Pipeline(steps=[\n",
    "    ('preprocessor', PreprocessData()),\n",
    "    ('regressor', LinearRegression())\n",
    "])"
   ]
  },
  {
   "cell_type": "code",
   "execution_count": 59,
   "metadata": {},
   "outputs": [],
   "source": [
    "# Fit the pipeline with data\n",
    "pipeline.fit(df, y)\n",
    "\n",
    "# Predict with the fitted model\n",
    "y_pred = pipeline.predict(df)"
   ]
  },
  {
   "cell_type": "code",
   "execution_count": 65,
   "metadata": {},
   "outputs": [
    {
     "name": "stdout",
     "output_type": "stream",
     "text": [
      "Mean Squared Error: 865870.7116983548\n"
     ]
    }
   ],
   "source": [
    "print(f\"Mean Squared Error: {mean_squared_error(y, y_pred)}\")"
   ]
  },
  {
   "cell_type": "code",
   "execution_count": null,
   "metadata": {},
   "outputs": [],
   "source": []
  }
 ],
 "metadata": {
  "kernelspec": {
   "display_name": "uni",
   "language": "python",
   "name": "python3"
  },
  "language_info": {
   "codemirror_mode": {
    "name": "ipython",
    "version": 3
   },
   "file_extension": ".py",
   "mimetype": "text/x-python",
   "name": "python",
   "nbconvert_exporter": "python",
   "pygments_lexer": "ipython3",
   "version": "3.11.5"
  }
 },
 "nbformat": 4,
 "nbformat_minor": 2
}
